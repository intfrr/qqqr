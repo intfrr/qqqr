{
 "cells": [
  {
   "cell_type": "code",
   "execution_count": null,
   "metadata": {},
   "outputs": [],
   "source": [
    "# https://developer.spotify.com/documentation/web-api/reference/player/\n",
    "# https://developer.spotify.com/documentation/web-api/guides/using-connect-web-api/\n",
    "# https://github.com/bishely/one-button-spotify/blob/master/one-button-spotify.py\n",
    "# https://developer.spotify.com/dashboard/applications/cd4d426be84b4bbe9b07b3035482f467"
   ]
  },
  {
   "cell_type": "code",
   "execution_count": null,
   "metadata": {},
   "outputs": [],
   "source": [
    "import requests\n",
    "from pprint import pprint\n",
    "from IPython.display import Image"
   ]
  },
  {
   "cell_type": "code",
   "execution_count": 1,
   "metadata": {},
   "outputs": [],
   "source": [
    "#auth_token = u'<redacted>'"
   ]
  },
  {
   "cell_type": "code",
   "execution_count": null,
   "metadata": {},
   "outputs": [],
   "source": [
    "default_headers = {\n",
    "    'Accept': 'application/json',\n",
    "    'Content-Type': 'application/json',\n",
    "    'Authorization': 'Bearer ' + auth_token\n",
    "}"
   ]
  },
  {
   "cell_type": "code",
   "execution_count": null,
   "metadata": {},
   "outputs": [],
   "source": [
    "endpoint = 'https://api.spotify.com/v1/me/player/devices'\n",
    "resp = requests.get(endpoint, headers=default_headers)\n",
    "print(resp)\n",
    "pprint(resp.json())"
   ]
  },
  {
   "cell_type": "code",
   "execution_count": null,
   "metadata": {
    "scrolled": true
   },
   "outputs": [],
   "source": [
    "endpoint = 'https://api.spotify.com/v1/me/player'\n",
    "resp = requests.get(endpoint, headers=default_headers)\n",
    "print(resp)\n",
    "result = resp.json()\n",
    "pprint(result)"
   ]
  },
  {
   "cell_type": "code",
   "execution_count": null,
   "metadata": {},
   "outputs": [],
   "source": [
    "display(Image(result['item']['album']['images'][0]['url'], format='jpg'))"
   ]
  },
  {
   "cell_type": "code",
   "execution_count": null,
   "metadata": {},
   "outputs": [],
   "source": [
    "# error 403: must be premium subscriber\n",
    "endpoint = 'https://api.spotify.com/v1/me/player/volume'\n",
    "params = {\n",
    "    'volume_percent': 50\n",
    "}\n",
    "resp = requests.put(endpoint, headers=default_headers, params=params)\n",
    "print(resp)\n",
    "pprint(resp.json())"
   ]
  },
  {
   "cell_type": "code",
   "execution_count": null,
   "metadata": {},
   "outputs": [],
   "source": [
    "# error 403: must be premium subscriber\n",
    "endpoint = 'https://api.spotify.com/v1/me/player/play'\n",
    "params = {\n",
    "}\n",
    "resp = requests.put(endpoint, headers=default_headers, params=params)\n",
    "print(resp)\n",
    "pprint(resp.json())"
   ]
  },
  {
   "cell_type": "code",
   "execution_count": null,
   "metadata": {},
   "outputs": [],
   "source": []
  }
 ],
 "metadata": {
  "kernelspec": {
   "display_name": "Python 2",
   "language": "python",
   "name": "python2"
  },
  "language_info": {
   "codemirror_mode": {
    "name": "ipython",
    "version": 2
   },
   "file_extension": ".py",
   "mimetype": "text/x-python",
   "name": "python",
   "nbconvert_exporter": "python",
   "pygments_lexer": "ipython2",
   "version": "2.7.15"
  }
 },
 "nbformat": 4,
 "nbformat_minor": 2
}

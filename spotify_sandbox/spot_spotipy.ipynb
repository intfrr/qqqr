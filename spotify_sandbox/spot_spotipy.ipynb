{
 "cells": [
  {
   "cell_type": "code",
   "execution_count": null,
   "metadata": {},
   "outputs": [],
   "source": [
    "# https://developer.spotify.com/documentation/web-api/reference/player/\n",
    "# https://developer.spotify.com/documentation/web-api/guides/using-connect-web-api/\n",
    "# https://github.com/bishely/one-button-spotify/blob/master/one-button-spotify.py\n",
    "# https://developer.spotify.com/dashboard/applications/cd4d426be84b4bbe9b07b3035482f467"
   ]
  },
  {
   "cell_type": "code",
   "execution_count": null,
   "metadata": {},
   "outputs": [],
   "source": [
    "#!pip install git+https://github.com/plamere/spotipy.git"
   ]
  },
  {
   "cell_type": "code",
   "execution_count": null,
   "metadata": {},
   "outputs": [],
   "source": [
    "from IPython.display import Image"
   ]
  },
  {
   "cell_type": "code",
   "execution_count": null,
   "metadata": {},
   "outputs": [],
   "source": [
    "import spotipy\n",
    "import spotipy.util"
   ]
  },
  {
   "cell_type": "code",
   "execution_count": null,
   "metadata": {},
   "outputs": [],
   "source": [
    "import spotify_secrets"
   ]
  },
  {
   "cell_type": "code",
   "execution_count": null,
   "metadata": {},
   "outputs": [],
   "source": [
    "token = spotipy.util.prompt_for_user_token(\n",
    "    spotify_secrets.USERNAME,\n",
    "    spotify_secrets.SCOPE,\n",
    "    client_id=spotify_secrets.CLIENT_ID,\n",
    "    client_secret=spotify_secrets.CLIENT_SECRET,\n",
    "    redirect_uri=spotify_secrets.REDIRECT_URI)"
   ]
  },
  {
   "cell_type": "code",
   "execution_count": null,
   "metadata": {},
   "outputs": [],
   "source": [
    "token"
   ]
  },
  {
   "cell_type": "code",
   "execution_count": null,
   "metadata": {},
   "outputs": [],
   "source": [
    "sp = spotipy.Spotify(auth=token)"
   ]
  },
  {
   "cell_type": "code",
   "execution_count": null,
   "metadata": {},
   "outputs": [],
   "source": [
    "results = sp.search(q='toto', limit=20)\n",
    "for i, t in enumerate(results['tracks']['items']):\n",
    "    print(' ', i, t['name'])"
   ]
  },
  {
   "cell_type": "code",
   "execution_count": null,
   "metadata": {},
   "outputs": [],
   "source": [
    "sp.me()"
   ]
  },
  {
   "cell_type": "code",
   "execution_count": null,
   "metadata": {},
   "outputs": [],
   "source": [
    "sp.devices()"
   ]
  },
  {
   "cell_type": "code",
   "execution_count": null,
   "metadata": {},
   "outputs": [],
   "source": [
    "resp = sp.current_playback()\n",
    "resp"
   ]
  },
  {
   "cell_type": "code",
   "execution_count": null,
   "metadata": {},
   "outputs": [],
   "source": [
    "Image(resp['item']['album']['images'][0]['url'], format='jpg')"
   ]
  },
  {
   "cell_type": "code",
   "execution_count": null,
   "metadata": {},
   "outputs": [],
   "source": []
  },
  {
   "cell_type": "code",
   "execution_count": null,
   "metadata": {},
   "outputs": [],
   "source": [
    "od11 = [v['id'] for v in sp.devices()['devices'] if v['name'] == 'OD-11'][0]"
   ]
  },
  {
   "cell_type": "code",
   "execution_count": null,
   "metadata": {},
   "outputs": [],
   "source": [
    "sp.volume(14, device_id=od11)"
   ]
  },
  {
   "cell_type": "code",
   "execution_count": null,
   "metadata": {},
   "outputs": [],
   "source": [
    "sp.start_playback(od11)"
   ]
  },
  {
   "cell_type": "code",
   "execution_count": null,
   "metadata": {},
   "outputs": [],
   "source": [
    "sp.pause_playback(od11)"
   ]
  },
  {
   "cell_type": "code",
   "execution_count": null,
   "metadata": {},
   "outputs": [],
   "source": []
  },
  {
   "cell_type": "code",
   "execution_count": null,
   "metadata": {},
   "outputs": [],
   "source": [
    "results = sp.search(q='Toubab Krewe Nirvana the Buffalo', limit=20)\n",
    "for i, t in enumerate(results['tracks']['items']):\n",
    "    print(' ', i, t['name'], t['uri'])"
   ]
  },
  {
   "cell_type": "code",
   "execution_count": null,
   "metadata": {},
   "outputs": [],
   "source": [
    "results = sp.search(q='Jingle Cats Silent Night', limit=20)\n",
    "for i, t in enumerate(results['tracks']['items']):\n",
    "    print(' ', i, t['name'], t['uri'])"
   ]
  },
  {
   "cell_type": "code",
   "execution_count": null,
   "metadata": {},
   "outputs": [],
   "source": [
    "sp.start_playback(od11, uris=['spotify:track:0paMRnR0hqdz8nmInYZrbM'])"
   ]
  },
  {
   "cell_type": "code",
   "execution_count": null,
   "metadata": {},
   "outputs": [],
   "source": [
    "sp.start_playback(od11, uris=['spotify:track:4NUc9yYTMQQSKZ8sUAngyW'])"
   ]
  },
  {
   "cell_type": "code",
   "execution_count": null,
   "metadata": {},
   "outputs": [],
   "source": [
    "sp.start_playback(od11, uris=['spotify:track:4NUc9yYTMQQSKZ8sUAngyW', 'spotify:track:0paMRnR0hqdz8nmInYZrbM'])"
   ]
  },
  {
   "cell_type": "code",
   "execution_count": null,
   "metadata": {},
   "outputs": [],
   "source": [
    "sp.next_track(od11)"
   ]
  },
  {
   "cell_type": "code",
   "execution_count": null,
   "metadata": {},
   "outputs": [],
   "source": [
    "# Spotify API currently does not provide a way to append a track to the end of the play queue.\n",
    "# See: https://github.com/spotify/web-api/issues/462"
   ]
  },
  {
   "cell_type": "code",
   "execution_count": null,
   "metadata": {},
   "outputs": [],
   "source": []
  },
  {
   "cell_type": "code",
   "execution_count": null,
   "metadata": {},
   "outputs": [],
   "source": [
    "def build_artist_track_search_query(artist, track):\n",
    "    return 'artist:\"%s\" track:\"%s\"' % (artist, track)"
   ]
  },
  {
   "cell_type": "code",
   "execution_count": null,
   "metadata": {},
   "outputs": [],
   "source": [
    "results = sp.search(q=build_artist_track_search_query('frank sinatra', 'night and day'), limit=20)\n",
    "for i, t in enumerate(results['tracks']['items']):\n",
    "    print(' ', i, t['artists'][0]['name'], t['name'], t['uri'])"
   ]
  },
  {
   "cell_type": "code",
   "execution_count": null,
   "metadata": {},
   "outputs": [],
   "source": []
  },
  {
   "cell_type": "code",
   "execution_count": null,
   "metadata": {},
   "outputs": [],
   "source": [
    "from gmusicapi import Mobileclient"
   ]
  },
  {
   "cell_type": "code",
   "execution_count": null,
   "metadata": {},
   "outputs": [],
   "source": [
    "import getpass"
   ]
  },
  {
   "cell_type": "code",
   "execution_count": null,
   "metadata": {},
   "outputs": [],
   "source": [
    "username = getpass.getpass()\n",
    "pw = getpass.getpass()\n",
    "api = Mobileclient()\n",
    "api.login(username, pw, Mobileclient.FROM_MAC_ADDRESS)"
   ]
  },
  {
   "cell_type": "code",
   "execution_count": null,
   "metadata": {},
   "outputs": [],
   "source": [
    "lib = api.get_all_songs()\n",
    "thumbs_up = [t for t in lib if t.get('rating') == '5']"
   ]
  },
  {
   "cell_type": "code",
   "execution_count": null,
   "metadata": {},
   "outputs": [],
   "source": [
    "len(thumbs_up)"
   ]
  },
  {
   "cell_type": "code",
   "execution_count": null,
   "metadata": {},
   "outputs": [],
   "source": [
    "thumbs_up_info_lookup = {t['id']: (t['artist'], t['title']) for t in thumbs_up}"
   ]
  },
  {
   "cell_type": "code",
   "execution_count": null,
   "metadata": {},
   "outputs": [],
   "source": [
    "t = thumbs_up[32]\n",
    "t"
   ]
  },
  {
   "cell_type": "code",
   "execution_count": null,
   "metadata": {},
   "outputs": [],
   "source": [
    "(t['artist'], t['title'])"
   ]
  },
  {
   "cell_type": "code",
   "execution_count": null,
   "metadata": {},
   "outputs": [],
   "source": []
  },
  {
   "cell_type": "code",
   "execution_count": null,
   "metadata": {},
   "outputs": [],
   "source": [
    "track_id = '38fc0843-80d7-3ad4-ba5b-77a9c33d014f'\n",
    "artist, title = thumbs_up_info_lookup[track_id]\n",
    "query = build_artist_track_search_query(artist, title)\n",
    "results = sp.search(q=query, limit=20)\n",
    "for i, t in enumerate(results['tracks']['items']):\n",
    "    print(' ', i, t['artists'][0]['name'], t['name'], t['uri'])"
   ]
  },
  {
   "cell_type": "code",
   "execution_count": null,
   "metadata": {},
   "outputs": [],
   "source": [
    "api.get_track_info('Tbfvm4in75irckc2ytbrb5i6ifu')"
   ]
  },
  {
   "cell_type": "code",
   "execution_count": null,
   "metadata": {},
   "outputs": [],
   "source": []
  },
  {
   "cell_type": "code",
   "execution_count": null,
   "metadata": {
    "scrolled": true
   },
   "outputs": [],
   "source": [
    "for t in thumbs_up:\n",
    "    artist, title = t['artist'], t['title']\n",
    "    title = title.replace('\\'', '')\n",
    "\n",
    "    #query = build_artist_track_search_query(artist, title)\n",
    "    query = 'artist:\"%s\" track:\"%s\"' % (artist, title)\n",
    "    results = sp.search(q=query, limit=20)\n",
    "\n",
    "    if not results['tracks']['items']:\n",
    "        query = 'artist:\"%s\" %s' % (artist, title)\n",
    "        results = sp.search(q=query, limit=20)\n",
    "    \n",
    "    if not results['tracks']['items']:\n",
    "        query = artist + ' ' + title\n",
    "        results = sp.search(q=query, limit=20)\n",
    "\n",
    "    if not results['tracks']['items']:\n",
    "        continue\n",
    "        \n",
    "    print((artist, title))\n",
    "    #for i, v in enumerate(results['tracks']['items']):\n",
    "    v = results['tracks']['items'][0]\n",
    "    print(' ', v['artists'][0]['name'], v['name'], v['uri'])\n",
    "    print('\\n'*3)"
   ]
  },
  {
   "cell_type": "code",
   "execution_count": null,
   "metadata": {},
   "outputs": [],
   "source": []
  }
 ],
 "metadata": {
  "kernelspec": {
   "display_name": "Python 2",
   "language": "python",
   "name": "python2"
  },
  "language_info": {
   "codemirror_mode": {
    "name": "ipython",
    "version": 2
   },
   "file_extension": ".py",
   "mimetype": "text/x-python",
   "name": "python",
   "nbconvert_exporter": "python",
   "pygments_lexer": "ipython2",
   "version": "2.7.15"
  }
 },
 "nbformat": 4,
 "nbformat_minor": 2
}

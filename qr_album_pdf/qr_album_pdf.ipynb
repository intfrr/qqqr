{
 "cells": [
  {
   "cell_type": "code",
   "execution_count": null,
   "metadata": {},
   "outputs": [],
   "source": [
    "#!pip uninstall -y gmusicapi\n",
    "#!pip uninstall -y google-cloud\n",
    "#!pip uninstall -y google\n",
    "\n",
    "#!pip install google-cloud\n",
    "#!pip install google\n",
    "\n",
    "#!pip install gmusicapi\n",
    "\n",
    "#!pip install pandas"
   ]
  },
  {
   "cell_type": "code",
   "execution_count": null,
   "metadata": {},
   "outputs": [],
   "source": [
    "from gmusicapi import Mobileclient"
   ]
  },
  {
   "cell_type": "code",
   "execution_count": null,
   "metadata": {},
   "outputs": [],
   "source": [
    "import getpass"
   ]
  },
  {
   "cell_type": "code",
   "execution_count": null,
   "metadata": {},
   "outputs": [],
   "source": [
    "username = getpass.getpass()"
   ]
  },
  {
   "cell_type": "code",
   "execution_count": null,
   "metadata": {},
   "outputs": [],
   "source": [
    "pw = getpass.getpass()"
   ]
  },
  {
   "cell_type": "code",
   "execution_count": null,
   "metadata": {},
   "outputs": [],
   "source": [
    "from gmusicapi import Mobileclient\n",
    "\n",
    "api = Mobileclient()\n",
    "logged_in = api.login(username, pw, Mobileclient.FROM_MAC_ADDRESS)"
   ]
  },
  {
   "cell_type": "code",
   "execution_count": null,
   "metadata": {},
   "outputs": [],
   "source": [
    "logged_in"
   ]
  },
  {
   "cell_type": "code",
   "execution_count": null,
   "metadata": {},
   "outputs": [],
   "source": [
    "from pprint import pprint\n",
    "from toolz import pluck\n",
    "from pandas import DataFrame\n",
    "import pandas as pd\n",
    "pd.set_option('display.max_rows', 5000)"
   ]
  },
  {
   "cell_type": "code",
   "execution_count": null,
   "metadata": {},
   "outputs": [],
   "source": [
    "#cols = ['artist', 'year', 'album', 'trackNumber', 'title', 'playCount']\n",
    "#df = DataFrame(list(pluck(cols, library, None)), columns=cols)\n",
    "#df['playCount'] = df['playCount'].fillna(0).astype(int)\n",
    "#df"
   ]
  },
  {
   "cell_type": "code",
   "execution_count": null,
   "metadata": {
    "scrolled": true
   },
   "outputs": [],
   "source": [
    "#df[df['playCount'] > 0].sort_values('playCount', ascending=False).reset_index(drop=True)"
   ]
  },
  {
   "cell_type": "code",
   "execution_count": null,
   "metadata": {},
   "outputs": [],
   "source": []
  },
  {
   "cell_type": "code",
   "execution_count": null,
   "metadata": {},
   "outputs": [],
   "source": []
  },
  {
   "cell_type": "code",
   "execution_count": null,
   "metadata": {},
   "outputs": [],
   "source": [
    "#api.get_all_playlists()"
   ]
  },
  {
   "cell_type": "code",
   "execution_count": null,
   "metadata": {
    "scrolled": true
   },
   "outputs": [],
   "source": [
    "#api.get_all_stations()"
   ]
  },
  {
   "cell_type": "code",
   "execution_count": null,
   "metadata": {},
   "outputs": [],
   "source": [
    "from IPython.display import display, Image, HTML\n",
    "from jinja2 import Template"
   ]
  },
  {
   "cell_type": "code",
   "execution_count": null,
   "metadata": {},
   "outputs": [],
   "source": [
    "#!pip install git+git://github.com/ojii/pymaging.git#egg=pymaging\n",
    "#!pip install git+git://github.com/ojii/pymaging-png.git#egg=pymaging-png"
   ]
  },
  {
   "cell_type": "code",
   "execution_count": null,
   "metadata": {},
   "outputs": [],
   "source": [
    "import qrcode\n",
    "import qrcode.image.svg\n",
    "from qrcode.image.pure import PymagingImage"
   ]
  },
  {
   "cell_type": "code",
   "execution_count": null,
   "metadata": {},
   "outputs": [],
   "source": []
  },
  {
   "cell_type": "code",
   "execution_count": null,
   "metadata": {},
   "outputs": [],
   "source": [
    "lib = api.get_all_songs()\n",
    "thumbs_up = [t for t in lib if t.get('rating') == '5']"
   ]
  },
  {
   "cell_type": "code",
   "execution_count": null,
   "metadata": {},
   "outputs": [],
   "source": [
    "thumbs_up"
   ]
  },
  {
   "cell_type": "code",
   "execution_count": null,
   "metadata": {},
   "outputs": [],
   "source": [
    "cols = ['albumArtRef', 'albumId', 'albumArtist', 'year', 'album', 'id', 'trackNumber', 'artist', 'title', 'playCount']\n",
    "df = DataFrame(list(pluck(cols, thumbs_up, None)), columns=cols)\n",
    "df['playCount'] = df['playCount'].fillna(0).astype(int)\n",
    "df['albumArt'] = df['albumArtRef'].apply(lambda v: v[0]['url'] if v else None)\n",
    "df.drop('albumArtRef', axis=1, inplace=True)"
   ]
  },
  {
   "cell_type": "code",
   "execution_count": null,
   "metadata": {},
   "outputs": [],
   "source": [
    "df"
   ]
  },
  {
   "cell_type": "code",
   "execution_count": null,
   "metadata": {},
   "outputs": [],
   "source": [
    "df['qrcode'] = df['id'].apply(lambda _id: qrcode.make('qqqr:gmusic:track:' + _id, border=0, image_factory=PymagingImage))"
   ]
  },
  {
   "cell_type": "code",
   "execution_count": null,
   "metadata": {},
   "outputs": [],
   "source": [
    "row = df.iloc[0]"
   ]
  },
  {
   "cell_type": "code",
   "execution_count": null,
   "metadata": {},
   "outputs": [],
   "source": [
    "img = row.qrcode.get_image()"
   ]
  },
  {
   "cell_type": "code",
   "execution_count": null,
   "metadata": {},
   "outputs": [],
   "source": [
    "import cStringIO\n",
    "import base64"
   ]
  },
  {
   "cell_type": "code",
   "execution_count": null,
   "metadata": {},
   "outputs": [],
   "source": [
    "def img_to_b64(img):\n",
    "    buf = cStringIO.StringIO()\n",
    "    img.save(buf, format='png')\n",
    "    img_b64 = base64.b64encode(buf.getvalue())\n",
    "    return img_b64"
   ]
  },
  {
   "cell_type": "code",
   "execution_count": null,
   "metadata": {},
   "outputs": [],
   "source": [
    "#_ = Template(\"\"\"\n",
    "#<div style=\"width: 100px\">\n",
    "#{% for row in rows %}\n",
    "#    <div style=\"display: inline-block; width: 240px; height: 500px; padding: 8px; border: 1px dashed black\">\n",
    "#    \n",
    "#        <div><img width=\"220\" height=\"220\" src=\"{{row.albumArt}}\"></div>\n",
    "#        <div style=\"height: 40px; font-family: Helvetica; font-size: 12px\">\n",
    "#            {{row.albumArtist}} &ndash; {{row.title}}\n",
    "#        </div>\n",
    "#        <div><img width=\"220\" height=\"220\" src=\"data:image/png;base64,{{img_to_b64(row.qrcode.get_image())}}\"></div>\n",
    "#    \n",
    "#    </div>\n",
    "#{% endfor %}\n",
    "#</div>\n",
    "#\"\"\")"
   ]
  },
  {
   "cell_type": "code",
   "execution_count": null,
   "metadata": {},
   "outputs": [],
   "source": [
    "template = Template(\"\"\"\n",
    "<div style=\"width: 1030px\">\n",
    "{% for row in rows %}\n",
    "    <div style=\"display: inline-block; width: 320px; height: 640px; padding: 8px; border: 1px dashed black\">\n",
    "    \n",
    "        <div><img width=\"300\" height=\"300\" src=\"{{row.albumArt}}\"></div>\n",
    "        <div style=\"height: 40px; font-family: Helvetica; font-size: 12px\">\n",
    "            {{row.albumArtist}} &ndash; {{row.title}}\n",
    "        </div>\n",
    "        <div><img width=\"300\" height=\"300\" src=\"data:image/png;base64,{{img_to_b64(row.qrcode.get_image())}}\"></div>\n",
    "    \n",
    "    </div>\n",
    "{% endfor %}\n",
    "</div>\n",
    "\"\"\")"
   ]
  },
  {
   "cell_type": "code",
   "execution_count": null,
   "metadata": {
    "scrolled": true
   },
   "outputs": [],
   "source": [
    "rows = [row for _, row in df.iterrows()]\n",
    "display(HTML(template.render(rows=rows, img_to_b64=img_to_b64)))"
   ]
  },
  {
   "cell_type": "code",
   "execution_count": null,
   "metadata": {},
   "outputs": [],
   "source": []
  },
  {
   "cell_type": "code",
   "execution_count": null,
   "metadata": {},
   "outputs": [],
   "source": [
    "html = template.render(rows=rows, img_to_b64=img_to_b64)"
   ]
  },
  {
   "cell_type": "code",
   "execution_count": 1,
   "metadata": {},
   "outputs": [],
   "source": [
    "#with open('qralbums.html', 'w') as f:\n",
    "#    f.write(html)"
   ]
  },
  {
   "cell_type": "code",
   "execution_count": null,
   "metadata": {},
   "outputs": [],
   "source": []
  },
  {
   "cell_type": "code",
   "execution_count": null,
   "metadata": {},
   "outputs": [],
   "source": []
  }
 ],
 "metadata": {
  "kernelspec": {
   "display_name": "Python 2",
   "language": "python",
   "name": "python2"
  },
  "language_info": {
   "codemirror_mode": {
    "name": "ipython",
    "version": 2
   },
   "file_extension": ".py",
   "mimetype": "text/x-python",
   "name": "python",
   "nbconvert_exporter": "python",
   "pygments_lexer": "ipython2",
   "version": "2.7.15"
  }
 },
 "nbformat": 4,
 "nbformat_minor": 1
}
